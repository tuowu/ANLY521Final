{
  "nbformat": 4,
  "nbformat_minor": 0,
  "metadata": {
    "colab": {
      "name": "embedding.ipynb",
      "provenance": []
    },
    "kernelspec": {
      "name": "python3",
      "display_name": "Python 3"
    },
    "accelerator": "GPU"
  },
  "cells": [
    {
      "cell_type": "code",
      "metadata": {
        "id": "7N83UGGhNMwf",
        "colab_type": "code",
        "colab": {}
      },
      "source": [
        "# load packages\n",
        "import nltk\n",
        "import os\n",
        "import pandas as pd\n",
        "from nltk.corpus import stopwords\n",
        "from nltk.stem import PorterStemmer\n",
        "from nltk.tokenize import word_tokenize\n",
        "import string\n",
        "from sklearn.feature_extraction.text import CountVectorizer,TfidfVectorizer\n",
        "import numpy as np\n",
        "from sklearn.model_selection import train_test_split\n",
        "from sklearn import svm\n",
        "from sklearn.metrics import precision_score\n",
        "from sklearn.metrics import recall_score\n",
        "from sklearn.metrics import f1_score\n",
        "from sklearn import metrics\n",
        "from spacy.lang.en import English\n",
        "from sklearn.ensemble import RandomForestClassifier\n",
        "import re \n",
        "import spacy\n",
        "import en_core_web_sm\n",
        "from  spacy.lang.en.stop_words import STOP_WORDS\n",
        "from sklearn.linear_model import LogisticRegression\n",
        "from sklearn.naive_bayes import GaussianNB\n",
        "from sklearn.svm import LinearSVC\n",
        "from sklearn.neural_network import MLPClassifier\n",
        "from imblearn.over_sampling import RandomOverSampler,SMOTE\n",
        "import random"
      ],
      "execution_count": 0,
      "outputs": []
    },
    {
      "cell_type": "code",
      "metadata": {
        "id": "sjbb0deuQgtp",
        "colab_type": "code",
        "colab": {}
      },
      "source": [
        "from tensorflow.keras.preprocessing.text import Tokenizer\n",
        "from tensorflow.keras.preprocessing.sequence import pad_sequences\n",
        "from tensorflow.keras.models import Sequential\n",
        "from tensorflow.keras.layers import Embedding,SpatialDropout1D,LSTM,Dense,Dropout,Conv1D,MaxPooling1D,Flatten\n",
        "from tensorflow.keras.losses import binary_crossentropy\n",
        "from keras.utils.np_utils import to_categorical\n",
        "from sklearn.metrics import classification_report"
      ],
      "execution_count": 0,
      "outputs": []
    },
    {
      "cell_type": "code",
      "metadata": {
        "id": "DYFyD0EfNZ3N",
        "colab_type": "code",
        "colab": {}
      },
      "source": [
        "df_train = pd.read_csv('train_original.csv')\n",
        "df_test = pd.read_csv('test_original.csv')\n",
        "df_simulated_spacy = pd.read_csv('train_spacy_simulated.csv')\n",
        "df_simulated_newSpacy = pd.read_csv('train_newSpacy_simulated.csv')"
      ],
      "execution_count": 0,
      "outputs": []
    },
    {
      "cell_type": "code",
      "metadata": {
        "id": "rLeDbBmcN7X4",
        "colab_type": "code",
        "colab": {}
      },
      "source": [
        "# preprocessing method 1\n",
        "citation_pattern = r'\\((.*?)\\)'\n",
        "nlp = en_core_web_sm.load()\n",
        "stopwords = list(STOP_WORDS)\n",
        "punctuations = string.punctuation\n",
        "def spacy_token(text):\n",
        "    text = re.sub(citation_pattern,'CIT',text)\n",
        "    text = re.sub('\\-',' ',text)\n",
        "    text = re.sub('\\d','',text)\n",
        "    mytokens = nlp(text)\n",
        "    mytokens = [word.lemma_.lower().strip() if word.lemma_ != \"-PRON-\" else word.lower_ for word in mytokens]\n",
        "    mytokens = [word for word in mytokens if word not in stopwords and word not in punctuations]\n",
        "    return ' '.join(mytokens)"
      ],
      "execution_count": 0,
      "outputs": []
    },
    {
      "cell_type": "code",
      "metadata": {
        "id": "VGJeO9_1N7fQ",
        "colab_type": "code",
        "colab": {}
      },
      "source": [
        "# preprocessing method 2\n",
        "def new_spacy_token(text):\n",
        "    text = re.sub(citation_pattern,'cit',text) \n",
        "    text = re.sub('\\-',' ',text)\n",
        "    my_token = nlp(text)\n",
        "    overall_list = []\n",
        "    for token in my_token:\n",
        "        if token.lemma_ == 'cit':\n",
        "            overall_list.append(token.lemma_)\n",
        "        if token.pos_ == 'VERB' and token.lemma_ != 'cit':\n",
        "            overall_list.append(token.lemma_)\n",
        "        if token.pos_== 'ADV' and token.lemma_ != 'cit':\n",
        "            overall_list.append(token.lemma_)\n",
        "        if token.pos_ == 'ADJ' and token.lemma_ != 'cit':\n",
        "            overall_list.append(token.lemma_)\n",
        "        if token.pos_== 'NOUN' and token.lemma_ != 'cit':\n",
        "            overall_list.append(token.lemma_)\n",
        "    return ' '.join([w for w in overall_list if w not in punctuations])"
      ],
      "execution_count": 0,
      "outputs": []
    },
    {
      "cell_type": "code",
      "metadata": {
        "id": "m9S7jo93N-ok",
        "colab_type": "code",
        "colab": {}
      },
      "source": [
        "# load data\n",
        "df_train['spacy_text'] = df_train['text'].apply(spacy_token)\n",
        "df_train['new_spacy_text'] = df_train['text'].apply(new_spacy_token)\n",
        "df_test['spacy_text'] = df_test['text'].apply(spacy_token)\n",
        "df_test['new_spacy_text'] = df_test['text'].apply(new_spacy_token)"
      ],
      "execution_count": 0,
      "outputs": []
    },
    {
      "cell_type": "code",
      "metadata": {
        "id": "wKZuNgLHSI1g",
        "colab_type": "code",
        "colab": {}
      },
      "source": [
        "# split data\n",
        "train_X_p1,test_X_p1,train_y_p1,test_y_p1 = list(df_train['spacy_text']),list(df_test['spacy_text']),df_train.labels.values,df_test.labels.values\n",
        "train_X_p2,test_X_p2,train_y_p2,test_y_p2 = list(df_train['new_spacy_text']),list(df_test['new_spacy_text']),df_train.labels.values,df_test.labels.values"
      ],
      "execution_count": 0,
      "outputs": []
    },
    {
      "cell_type": "code",
      "metadata": {
        "id": "AatOAppVEifW",
        "colab_type": "code",
        "colab": {}
      },
      "source": [
        "# prepare data for vectorizer\n",
        "train_whole_text_p1 = train_X_p1.copy()\n",
        "train_whole_text_p2 = train_X_p2.copy()"
      ],
      "execution_count": 0,
      "outputs": []
    },
    {
      "cell_type": "code",
      "metadata": {
        "id": "6UdzqE7tFMK3",
        "colab_type": "code",
        "colab": {}
      },
      "source": [
        "train_whole_text_p1.extend(test_X_p1)"
      ],
      "execution_count": 0,
      "outputs": []
    },
    {
      "cell_type": "code",
      "metadata": {
        "id": "mqbJPs_vFSk2",
        "colab_type": "code",
        "colab": {}
      },
      "source": [
        "train_whole_text_p2.extend(test_X_p2)"
      ],
      "execution_count": 0,
      "outputs": []
    },
    {
      "cell_type": "code",
      "metadata": {
        "id": "1_ihh20CRFj1",
        "colab_type": "code",
        "colab": {}
      },
      "source": [
        "tk = Tokenizer(lower = True,filters='')\n",
        "tk.fit_on_texts(train_whole_text_p1)\n",
        "max_len = 50\n",
        "train_tokenized = tk.texts_to_sequences(train_X_p1)\n",
        "test_tokenized = tk.texts_to_sequences(test_X_p1)\n",
        "train_X_p1 = pad_sequences(train_tokenized,maxlen= max_len)\n",
        "test_X_p1 = pad_sequences(test_tokenized, maxlen = max_len)"
      ],
      "execution_count": 0,
      "outputs": []
    },
    {
      "cell_type": "code",
      "metadata": {
        "id": "2k6dgdg6Fxko",
        "colab_type": "code",
        "colab": {}
      },
      "source": [
        "tk = Tokenizer(lower = True,filters='')\n",
        "tk.fit_on_texts(train_whole_text_p2)\n",
        "max_len = 50\n",
        "train_tokenized = tk.texts_to_sequences(train_X_p2)\n",
        "test_tokenized = tk.texts_to_sequences(test_X_p2)\n",
        "train_X_p2 = pad_sequences(train_tokenized,maxlen= max_len)\n",
        "test_X_p2 = pad_sequences(test_tokenized, maxlen = max_len)"
      ],
      "execution_count": 0,
      "outputs": []
    },
    {
      "cell_type": "code",
      "metadata": {
        "id": "Xu9ORTGyRFln",
        "colab_type": "code",
        "outputId": "72eb67e8-33da-428d-a588-36ac924b105b",
        "colab": {
          "base_uri": "https://localhost:8080/",
          "height": 51
        }
      },
      "source": [
        "print(train_X_p1.shape)\n",
        "print(train_X_p2.shape)"
      ],
      "execution_count": 0,
      "outputs": [
        {
          "output_type": "stream",
          "text": [
            "(7003, 50)\n",
            "(7003, 50)\n"
          ],
          "name": "stdout"
        }
      ]
    },
    {
      "cell_type": "code",
      "metadata": {
        "id": "8FTBTAwDF--U",
        "colab_type": "code",
        "colab": {}
      },
      "source": [
        "# lables to categorical\n",
        "train_y_p1 = to_categorical(train_y_p1, num_classes = 3)\n",
        "train_y_p2 = to_categorical(train_y_p2, num_classes = 3)\n",
        "test_y_p1 = to_categorical(test_y_p1, num_classes = 3)\n",
        "test_y_p2 = to_categorical(test_y_p2, num_classes = 3)"
      ],
      "execution_count": 0,
      "outputs": []
    },
    {
      "cell_type": "markdown",
      "metadata": {
        "id": "34a53PlIGU4V",
        "colab_type": "text"
      },
      "source": [
        "## CNN model"
      ]
    },
    {
      "cell_type": "code",
      "metadata": {
        "id": "VX6aKTNZRngj",
        "colab_type": "code",
        "colab": {}
      },
      "source": [
        "model = Sequential()\n",
        "model.add(Embedding(20000, 100, input_length= 50))\n",
        "model.add(Dropout(0.2))\n",
        "model.add(Conv1D(64, 3, activation='relu'))\n",
        "model.add(MaxPooling1D(pool_size=2))\n",
        "model.add(Conv1D(32, 2, activation='relu'))\n",
        "model.add(MaxPooling1D(pool_size=2))\n",
        "model.add(LSTM(100))\n",
        "model.add(Dense(3, activation='softmax'))"
      ],
      "execution_count": 0,
      "outputs": []
    },
    {
      "cell_type": "code",
      "metadata": {
        "id": "x4NdkHJTRnio",
        "colab_type": "code",
        "colab": {}
      },
      "source": [
        "model.compile(loss='categorical_crossentropy', optimizer='adam', metrics=['accuracy'])"
      ],
      "execution_count": 0,
      "outputs": []
    },
    {
      "cell_type": "code",
      "metadata": {
        "id": "IoUhhEPwRnkR",
        "colab_type": "code",
        "outputId": "62421b03-2551-4465-f046-08b82ae177da",
        "colab": {
          "base_uri": "https://localhost:8080/",
          "height": 714
        }
      },
      "source": [
        "model.fit(train_X_p1, train_y_p1,\n",
        "                    batch_size=128,\n",
        "                    epochs=20,\n",
        "                    verbose=1,\n",
        "                    validation_data = (test_X_p1,test_y_p1),\n",
        "                    shuffle = True)"
      ],
      "execution_count": 0,
      "outputs": [
        {
          "output_type": "stream",
          "text": [
            "Epoch 1/20\n",
            "55/55 [==============================] - 2s 33ms/step - loss: 0.5473 - accuracy: 0.8563 - val_loss: 0.4335 - val_accuracy: 0.8823\n",
            "Epoch 2/20\n",
            "55/55 [==============================] - 1s 23ms/step - loss: 0.4379 - accuracy: 0.8708 - val_loss: 0.4053 - val_accuracy: 0.8823\n",
            "Epoch 3/20\n",
            "55/55 [==============================] - 1s 23ms/step - loss: 0.3520 - accuracy: 0.8778 - val_loss: 0.4102 - val_accuracy: 0.8800\n",
            "Epoch 4/20\n",
            "55/55 [==============================] - 1s 23ms/step - loss: 0.2606 - accuracy: 0.9039 - val_loss: 0.4412 - val_accuracy: 0.8811\n",
            "Epoch 5/20\n",
            "55/55 [==============================] - 1s 23ms/step - loss: 0.1977 - accuracy: 0.9283 - val_loss: 0.5083 - val_accuracy: 0.8742\n",
            "Epoch 6/20\n",
            "55/55 [==============================] - 1s 23ms/step - loss: 0.1639 - accuracy: 0.9395 - val_loss: 0.5584 - val_accuracy: 0.8644\n",
            "Epoch 7/20\n",
            "55/55 [==============================] - 1s 23ms/step - loss: 0.1396 - accuracy: 0.9455 - val_loss: 0.6104 - val_accuracy: 0.8604\n",
            "Epoch 8/20\n",
            "55/55 [==============================] - 1s 23ms/step - loss: 0.1163 - accuracy: 0.9557 - val_loss: 0.6618 - val_accuracy: 0.8731\n",
            "Epoch 9/20\n",
            "55/55 [==============================] - 1s 24ms/step - loss: 0.0955 - accuracy: 0.9637 - val_loss: 0.7415 - val_accuracy: 0.8586\n",
            "Epoch 10/20\n",
            "55/55 [==============================] - 1s 23ms/step - loss: 0.0785 - accuracy: 0.9724 - val_loss: 0.7441 - val_accuracy: 0.8656\n",
            "Epoch 11/20\n",
            "55/55 [==============================] - 1s 23ms/step - loss: 0.0586 - accuracy: 0.9822 - val_loss: 0.7790 - val_accuracy: 0.8650\n",
            "Epoch 12/20\n",
            "55/55 [==============================] - 1s 23ms/step - loss: 0.0457 - accuracy: 0.9853 - val_loss: 0.8148 - val_accuracy: 0.8598\n",
            "Epoch 13/20\n",
            "55/55 [==============================] - 1s 23ms/step - loss: 0.0407 - accuracy: 0.9869 - val_loss: 0.7306 - val_accuracy: 0.8580\n",
            "Epoch 14/20\n",
            "55/55 [==============================] - 1s 23ms/step - loss: 0.0366 - accuracy: 0.9877 - val_loss: 0.8244 - val_accuracy: 0.8667\n",
            "Epoch 15/20\n",
            "55/55 [==============================] - 1s 23ms/step - loss: 0.0363 - accuracy: 0.9874 - val_loss: 0.7678 - val_accuracy: 0.8656\n",
            "Epoch 16/20\n",
            "55/55 [==============================] - 1s 23ms/step - loss: 0.0357 - accuracy: 0.9863 - val_loss: 0.7852 - val_accuracy: 0.8580\n",
            "Epoch 17/20\n",
            "55/55 [==============================] - 1s 24ms/step - loss: 0.0346 - accuracy: 0.9874 - val_loss: 0.7602 - val_accuracy: 0.8736\n",
            "Epoch 18/20\n",
            "55/55 [==============================] - 1s 24ms/step - loss: 0.0287 - accuracy: 0.9889 - val_loss: 0.8080 - val_accuracy: 0.8442\n",
            "Epoch 19/20\n",
            "55/55 [==============================] - 1s 24ms/step - loss: 0.0290 - accuracy: 0.9886 - val_loss: 0.8552 - val_accuracy: 0.8713\n",
            "Epoch 20/20\n",
            "55/55 [==============================] - 1s 24ms/step - loss: 0.0280 - accuracy: 0.9894 - val_loss: 0.8350 - val_accuracy: 0.8702\n"
          ],
          "name": "stdout"
        },
        {
          "output_type": "execute_result",
          "data": {
            "text/plain": [
              "<tensorflow.python.keras.callbacks.History at 0x7f4b4640ca20>"
            ]
          },
          "metadata": {
            "tags": []
          },
          "execution_count": 22
        }
      ]
    },
    {
      "cell_type": "code",
      "metadata": {
        "id": "R0xpnE-MSros",
        "colab_type": "code",
        "outputId": "e299d7a8-e160-4cd8-fbf6-2a8807a2c394",
        "colab": {
          "base_uri": "https://localhost:8080/",
          "height": 187
        }
      },
      "source": [
        "preds = model.predict(test_X_p1)\n",
        "print(classification_report(np.argmax(test_y_p1,axis=1),np.argmax(preds,axis=1)))"
      ],
      "execution_count": 0,
      "outputs": [
        {
          "output_type": "stream",
          "text": [
            "              precision    recall  f1-score   support\n",
            "\n",
            "           0       0.15      0.10      0.12        52\n",
            "           1       0.47      0.36      0.40       152\n",
            "           2       0.92      0.95      0.93      1529\n",
            "\n",
            "    accuracy                           0.87      1733\n",
            "   macro avg       0.51      0.47      0.48      1733\n",
            "weighted avg       0.85      0.87      0.86      1733\n",
            "\n"
          ],
          "name": "stdout"
        }
      ]
    },
    {
      "cell_type": "code",
      "metadata": {
        "id": "WC6y0hkfNZ82",
        "colab_type": "code",
        "colab": {}
      },
      "source": [
        "model = Sequential()\n",
        "model.add(Embedding(20000, 100, input_length= 50))\n",
        "model.add(Dropout(0.2))\n",
        "model.add(Conv1D(64, 3, activation='relu'))\n",
        "model.add(MaxPooling1D(pool_size=2))\n",
        "model.add(Conv1D(32, 2, activation='relu'))\n",
        "model.add(MaxPooling1D(pool_size=2))\n",
        "model.add(LSTM(100))\n",
        "model.add(Dense(3, activation='softmax'))"
      ],
      "execution_count": 0,
      "outputs": []
    },
    {
      "cell_type": "code",
      "metadata": {
        "id": "2kWyK409HFST",
        "colab_type": "code",
        "colab": {}
      },
      "source": [
        "model.compile(loss='categorical_crossentropy', optimizer='adam', metrics=['accuracy'])"
      ],
      "execution_count": 0,
      "outputs": []
    },
    {
      "cell_type": "code",
      "metadata": {
        "id": "u40XtlAvHGhX",
        "colab_type": "code",
        "outputId": "b104f674-a647-4cf5-f05d-d90baac64d0a",
        "colab": {
          "base_uri": "https://localhost:8080/",
          "height": 714
        }
      },
      "source": [
        "model.fit(train_X_p2, train_y_p2,\n",
        "                    batch_size=128,\n",
        "                    epochs=20,\n",
        "                    verbose=1,\n",
        "                    validation_data = (test_X_p2,test_y_p2),\n",
        "                    shuffle = True)"
      ],
      "execution_count": 0,
      "outputs": [
        {
          "output_type": "stream",
          "text": [
            "Epoch 1/20\n",
            "55/55 [==============================] - 2s 31ms/step - loss: 0.5270 - accuracy: 0.8708 - val_loss: 0.4337 - val_accuracy: 0.8823\n",
            "Epoch 2/20\n",
            "55/55 [==============================] - 1s 23ms/step - loss: 0.4343 - accuracy: 0.8708 - val_loss: 0.4019 - val_accuracy: 0.8823\n",
            "Epoch 3/20\n",
            "55/55 [==============================] - 1s 23ms/step - loss: 0.3515 - accuracy: 0.8763 - val_loss: 0.4156 - val_accuracy: 0.8754\n",
            "Epoch 4/20\n",
            "55/55 [==============================] - 1s 23ms/step - loss: 0.2740 - accuracy: 0.8985 - val_loss: 0.4438 - val_accuracy: 0.8690\n",
            "Epoch 5/20\n",
            "55/55 [==============================] - 1s 23ms/step - loss: 0.2185 - accuracy: 0.9216 - val_loss: 0.4844 - val_accuracy: 0.8725\n",
            "Epoch 6/20\n",
            "55/55 [==============================] - 1s 24ms/step - loss: 0.1794 - accuracy: 0.9333 - val_loss: 0.5385 - val_accuracy: 0.8898\n",
            "Epoch 7/20\n",
            "55/55 [==============================] - 1s 23ms/step - loss: 0.1489 - accuracy: 0.9426 - val_loss: 0.5717 - val_accuracy: 0.8765\n",
            "Epoch 8/20\n",
            "55/55 [==============================] - 1s 23ms/step - loss: 0.1283 - accuracy: 0.9489 - val_loss: 0.6301 - val_accuracy: 0.8771\n",
            "Epoch 9/20\n",
            "55/55 [==============================] - 1s 23ms/step - loss: 0.1077 - accuracy: 0.9582 - val_loss: 0.6614 - val_accuracy: 0.8477\n",
            "Epoch 10/20\n",
            "55/55 [==============================] - 1s 24ms/step - loss: 0.0958 - accuracy: 0.9666 - val_loss: 0.6482 - val_accuracy: 0.8627\n",
            "Epoch 11/20\n",
            "55/55 [==============================] - 1s 24ms/step - loss: 0.0720 - accuracy: 0.9749 - val_loss: 0.6777 - val_accuracy: 0.8679\n",
            "Epoch 12/20\n",
            "55/55 [==============================] - 1s 24ms/step - loss: 0.0618 - accuracy: 0.9783 - val_loss: 0.7507 - val_accuracy: 0.8777\n",
            "Epoch 13/20\n",
            "55/55 [==============================] - 1s 23ms/step - loss: 0.0507 - accuracy: 0.9844 - val_loss: 0.7406 - val_accuracy: 0.8661\n",
            "Epoch 14/20\n",
            "55/55 [==============================] - 1s 24ms/step - loss: 0.0471 - accuracy: 0.9851 - val_loss: 0.7791 - val_accuracy: 0.8488\n",
            "Epoch 15/20\n",
            "55/55 [==============================] - 1s 23ms/step - loss: 0.0447 - accuracy: 0.9844 - val_loss: 0.7826 - val_accuracy: 0.8442\n",
            "Epoch 16/20\n",
            "55/55 [==============================] - 1s 23ms/step - loss: 0.0408 - accuracy: 0.9863 - val_loss: 0.7682 - val_accuracy: 0.8540\n",
            "Epoch 17/20\n",
            "55/55 [==============================] - 1s 23ms/step - loss: 0.0375 - accuracy: 0.9870 - val_loss: 0.8016 - val_accuracy: 0.8650\n",
            "Epoch 18/20\n",
            "55/55 [==============================] - 1s 23ms/step - loss: 0.0367 - accuracy: 0.9879 - val_loss: 0.8083 - val_accuracy: 0.8580\n",
            "Epoch 19/20\n",
            "55/55 [==============================] - 1s 23ms/step - loss: 0.0340 - accuracy: 0.9881 - val_loss: 0.7598 - val_accuracy: 0.8627\n",
            "Epoch 20/20\n",
            "55/55 [==============================] - 1s 23ms/step - loss: 0.0326 - accuracy: 0.9884 - val_loss: 0.8162 - val_accuracy: 0.8759\n"
          ],
          "name": "stdout"
        },
        {
          "output_type": "execute_result",
          "data": {
            "text/plain": [
              "<tensorflow.python.keras.callbacks.History at 0x7f4b40412e48>"
            ]
          },
          "metadata": {
            "tags": []
          },
          "execution_count": 26
        }
      ]
    },
    {
      "cell_type": "code",
      "metadata": {
        "id": "SvjrxIpjHMKB",
        "colab_type": "code",
        "outputId": "4d553e37-a725-45fe-c8f9-811db5fda33e",
        "colab": {
          "base_uri": "https://localhost:8080/",
          "height": 187
        }
      },
      "source": [
        "preds = model.predict(test_X_p2)\n",
        "print(classification_report(np.argmax(test_y_p2,axis=1),np.argmax(preds,axis=1)))"
      ],
      "execution_count": 0,
      "outputs": [
        {
          "output_type": "stream",
          "text": [
            "              precision    recall  f1-score   support\n",
            "\n",
            "           0       0.19      0.15      0.17        52\n",
            "           1       0.52      0.38      0.44       152\n",
            "           2       0.92      0.95      0.93      1529\n",
            "\n",
            "    accuracy                           0.88      1733\n",
            "   macro avg       0.54      0.49      0.51      1733\n",
            "weighted avg       0.86      0.88      0.87      1733\n",
            "\n"
          ],
          "name": "stdout"
        }
      ]
    },
    {
      "cell_type": "markdown",
      "metadata": {
        "id": "qzgIuKY8HbOU",
        "colab_type": "text"
      },
      "source": [
        "## Using Oversample"
      ]
    },
    {
      "cell_type": "code",
      "metadata": {
        "id": "jyfFfOtINaHj",
        "colab_type": "code",
        "outputId": "3eba7809-ff68-4e9d-e9ad-f725a925ce0a",
        "colab": {
          "base_uri": "https://localhost:8080/",
          "height": 105
        }
      },
      "source": [
        "ros = RandomOverSampler(random_state=0)\n",
        "train_X_p1, train_y_p1 = ros.fit_sample(train_X_p1, train_y_p1)\n",
        "ros = RandomOverSampler(random_state=0)\n",
        "train_X_p2, train_y_p2 = ros.fit_sample(train_X_p2, train_y_p2)"
      ],
      "execution_count": 0,
      "outputs": [
        {
          "output_type": "stream",
          "text": [
            "/usr/local/lib/python3.6/dist-packages/sklearn/utils/deprecation.py:87: FutureWarning: Function safe_indexing is deprecated; safe_indexing is deprecated in version 0.22 and will be removed in version 0.24.\n",
            "  warnings.warn(msg, category=FutureWarning)\n",
            "/usr/local/lib/python3.6/dist-packages/sklearn/utils/deprecation.py:87: FutureWarning: Function safe_indexing is deprecated; safe_indexing is deprecated in version 0.22 and will be removed in version 0.24.\n",
            "  warnings.warn(msg, category=FutureWarning)\n"
          ],
          "name": "stderr"
        }
      ]
    },
    {
      "cell_type": "code",
      "metadata": {
        "id": "QX4G2OLCNaJG",
        "colab_type": "code",
        "colab": {}
      },
      "source": [
        "model = Sequential()\n",
        "model.add(Embedding(20000, 100, input_length= 50))\n",
        "model.add(Dropout(0.2))\n",
        "model.add(Conv1D(64, 3, activation='relu'))\n",
        "model.add(MaxPooling1D(pool_size=2))\n",
        "model.add(Conv1D(32, 2, activation='relu'))\n",
        "model.add(MaxPooling1D(pool_size=2))\n",
        "model.add(LSTM(100))\n",
        "model.add(Dense(3, activation='softmax'))"
      ],
      "execution_count": 0,
      "outputs": []
    },
    {
      "cell_type": "code",
      "metadata": {
        "id": "QEBYDe7rNaK7",
        "colab_type": "code",
        "colab": {}
      },
      "source": [
        "model.compile(loss='categorical_crossentropy', optimizer='adam', metrics=['accuracy'])"
      ],
      "execution_count": 0,
      "outputs": []
    },
    {
      "cell_type": "code",
      "metadata": {
        "id": "k8_ZQ_tYNaMw",
        "colab_type": "code",
        "outputId": "47a91e2f-ac7a-4dd9-c4b1-53d1138e0c3d",
        "colab": {
          "base_uri": "https://localhost:8080/",
          "height": 714
        }
      },
      "source": [
        "model.fit(train_X_p1, train_y_p1,\n",
        "                    batch_size=128,\n",
        "                    epochs=20,\n",
        "                    verbose=1,\n",
        "                    validation_data = (test_X_p1,test_y_p1),\n",
        "                    shuffle = True)"
      ],
      "execution_count": 0,
      "outputs": [
        {
          "output_type": "stream",
          "text": [
            "Epoch 1/20\n",
            "143/143 [==============================] - 4s 26ms/step - loss: 0.6209 - accuracy: 0.7024 - val_loss: 0.6449 - val_accuracy: 0.8113\n",
            "Epoch 2/20\n",
            "143/143 [==============================] - 3s 22ms/step - loss: 0.1251 - accuracy: 0.9608 - val_loss: 0.7349 - val_accuracy: 0.8586\n",
            "Epoch 3/20\n",
            "143/143 [==============================] - 3s 22ms/step - loss: 0.0594 - accuracy: 0.9826 - val_loss: 0.8360 - val_accuracy: 0.8425\n",
            "Epoch 4/20\n",
            "143/143 [==============================] - 3s 22ms/step - loss: 0.0402 - accuracy: 0.9896 - val_loss: 0.9390 - val_accuracy: 0.8557\n",
            "Epoch 5/20\n",
            "143/143 [==============================] - 3s 23ms/step - loss: 0.0345 - accuracy: 0.9908 - val_loss: 1.0125 - val_accuracy: 0.8407\n",
            "Epoch 6/20\n",
            "143/143 [==============================] - 3s 22ms/step - loss: 0.0308 - accuracy: 0.9916 - val_loss: 1.0526 - val_accuracy: 0.8609\n",
            "Epoch 7/20\n",
            "143/143 [==============================] - 3s 22ms/step - loss: 0.0295 - accuracy: 0.9921 - val_loss: 1.0459 - val_accuracy: 0.8644\n",
            "Epoch 8/20\n",
            "143/143 [==============================] - 3s 22ms/step - loss: 0.0284 - accuracy: 0.9918 - val_loss: 1.0950 - val_accuracy: 0.8632\n",
            "Epoch 9/20\n",
            "143/143 [==============================] - 3s 22ms/step - loss: 0.0243 - accuracy: 0.9929 - val_loss: 1.0923 - val_accuracy: 0.8534\n",
            "Epoch 10/20\n",
            "143/143 [==============================] - 3s 22ms/step - loss: 0.0243 - accuracy: 0.9931 - val_loss: 1.1103 - val_accuracy: 0.8477\n",
            "Epoch 11/20\n",
            "143/143 [==============================] - 3s 22ms/step - loss: 0.0242 - accuracy: 0.9930 - val_loss: 1.1699 - val_accuracy: 0.8529\n",
            "Epoch 12/20\n",
            "143/143 [==============================] - 3s 22ms/step - loss: 0.0229 - accuracy: 0.9933 - val_loss: 1.1647 - val_accuracy: 0.8552\n",
            "Epoch 13/20\n",
            "143/143 [==============================] - 3s 23ms/step - loss: 0.0234 - accuracy: 0.9931 - val_loss: 1.1643 - val_accuracy: 0.8569\n",
            "Epoch 14/20\n",
            "143/143 [==============================] - 3s 22ms/step - loss: 0.0243 - accuracy: 0.9927 - val_loss: 1.1620 - val_accuracy: 0.8604\n",
            "Epoch 15/20\n",
            "143/143 [==============================] - 3s 22ms/step - loss: 0.0223 - accuracy: 0.9934 - val_loss: 1.1816 - val_accuracy: 0.8529\n",
            "Epoch 16/20\n",
            "143/143 [==============================] - 3s 22ms/step - loss: 0.0224 - accuracy: 0.9925 - val_loss: 1.2085 - val_accuracy: 0.8511\n",
            "Epoch 17/20\n",
            "143/143 [==============================] - 3s 22ms/step - loss: 0.0221 - accuracy: 0.9932 - val_loss: 1.1877 - val_accuracy: 0.8459\n",
            "Epoch 18/20\n",
            "143/143 [==============================] - 3s 22ms/step - loss: 0.0210 - accuracy: 0.9937 - val_loss: 1.1816 - val_accuracy: 0.8454\n",
            "Epoch 19/20\n",
            "143/143 [==============================] - 3s 23ms/step - loss: 0.0213 - accuracy: 0.9936 - val_loss: 1.2855 - val_accuracy: 0.8546\n",
            "Epoch 20/20\n",
            "143/143 [==============================] - 3s 23ms/step - loss: 0.0212 - accuracy: 0.9929 - val_loss: 1.1940 - val_accuracy: 0.8471\n"
          ],
          "name": "stdout"
        },
        {
          "output_type": "execute_result",
          "data": {
            "text/plain": [
              "<tensorflow.python.keras.callbacks.History at 0x7f4abe5aecf8>"
            ]
          },
          "metadata": {
            "tags": []
          },
          "execution_count": 31
        }
      ]
    },
    {
      "cell_type": "code",
      "metadata": {
        "id": "AJItZ3VjNaOo",
        "colab_type": "code",
        "outputId": "54c25468-236b-4b1c-8b50-65973f1b6243",
        "colab": {
          "base_uri": "https://localhost:8080/",
          "height": 187
        }
      },
      "source": [
        "preds = model.predict(test_X_p1)\n",
        "print(classification_report(np.argmax(test_y_p1,axis=1),np.argmax(preds,axis=1)))"
      ],
      "execution_count": 0,
      "outputs": [
        {
          "output_type": "stream",
          "text": [
            "              precision    recall  f1-score   support\n",
            "\n",
            "           0       0.16      0.12      0.13        52\n",
            "           1       0.35      0.38      0.37       152\n",
            "           2       0.92      0.92      0.92      1529\n",
            "\n",
            "    accuracy                           0.85      1733\n",
            "   macro avg       0.48      0.47      0.47      1733\n",
            "weighted avg       0.84      0.85      0.85      1733\n",
            "\n"
          ],
          "name": "stdout"
        }
      ]
    },
    {
      "cell_type": "code",
      "metadata": {
        "id": "vLDCgM1wNaQh",
        "colab_type": "code",
        "colab": {}
      },
      "source": [
        "model = Sequential()\n",
        "model.add(Embedding(20000, 100, input_length= 50))\n",
        "model.add(Dropout(0.2))\n",
        "model.add(Conv1D(64, 3, activation='relu'))\n",
        "model.add(MaxPooling1D(pool_size=2))\n",
        "model.add(Conv1D(32, 2, activation='relu'))\n",
        "model.add(MaxPooling1D(pool_size=2))\n",
        "model.add(LSTM(100))\n",
        "model.add(Dense(3, activation='softmax'))"
      ],
      "execution_count": 0,
      "outputs": []
    },
    {
      "cell_type": "code",
      "metadata": {
        "id": "nPzBgrmRNaTn",
        "colab_type": "code",
        "colab": {}
      },
      "source": [
        "model.compile(loss='categorical_crossentropy', optimizer='adam', metrics=['accuracy'])"
      ],
      "execution_count": 0,
      "outputs": []
    },
    {
      "cell_type": "code",
      "metadata": {
        "id": "2SGe_jxVNaVU",
        "colab_type": "code",
        "outputId": "2ec4fef3-d977-4e90-90f3-da8b9236b67d",
        "colab": {
          "base_uri": "https://localhost:8080/",
          "height": 714
        }
      },
      "source": [
        "model.fit(train_X_p2, train_y_p2,\n",
        "                    batch_size=128,\n",
        "                    epochs=20,\n",
        "                    verbose=1,\n",
        "                    validation_data = (test_X_p2,test_y_p2),\n",
        "                    shuffle = True)"
      ],
      "execution_count": 0,
      "outputs": [
        {
          "output_type": "stream",
          "text": [
            "Epoch 1/20\n",
            "143/143 [==============================] - 4s 25ms/step - loss: 0.6351 - accuracy: 0.6979 - val_loss: 0.6169 - val_accuracy: 0.7911\n",
            "Epoch 2/20\n",
            "143/143 [==============================] - 3s 22ms/step - loss: 0.1493 - accuracy: 0.9544 - val_loss: 0.6533 - val_accuracy: 0.8592\n",
            "Epoch 3/20\n",
            "143/143 [==============================] - 3s 22ms/step - loss: 0.0787 - accuracy: 0.9776 - val_loss: 0.7611 - val_accuracy: 0.8500\n",
            "Epoch 4/20\n",
            "143/143 [==============================] - 3s 22ms/step - loss: 0.0592 - accuracy: 0.9826 - val_loss: 0.7872 - val_accuracy: 0.8661\n",
            "Epoch 5/20\n",
            "143/143 [==============================] - 3s 22ms/step - loss: 0.0445 - accuracy: 0.9874 - val_loss: 0.8791 - val_accuracy: 0.8436\n",
            "Epoch 6/20\n",
            "143/143 [==============================] - 3s 22ms/step - loss: 0.0394 - accuracy: 0.9883 - val_loss: 0.8927 - val_accuracy: 0.8632\n",
            "Epoch 7/20\n",
            "143/143 [==============================] - 3s 22ms/step - loss: 0.0343 - accuracy: 0.9902 - val_loss: 0.9518 - val_accuracy: 0.8529\n",
            "Epoch 8/20\n",
            "143/143 [==============================] - 3s 22ms/step - loss: 0.0315 - accuracy: 0.9907 - val_loss: 1.0067 - val_accuracy: 0.8563\n",
            "Epoch 9/20\n",
            "143/143 [==============================] - 3s 23ms/step - loss: 0.0319 - accuracy: 0.9911 - val_loss: 1.0188 - val_accuracy: 0.8419\n",
            "Epoch 10/20\n",
            "143/143 [==============================] - 3s 23ms/step - loss: 0.0295 - accuracy: 0.9913 - val_loss: 1.0495 - val_accuracy: 0.8477\n",
            "Epoch 11/20\n",
            "143/143 [==============================] - 3s 22ms/step - loss: 0.0278 - accuracy: 0.9915 - val_loss: 1.0455 - val_accuracy: 0.8448\n",
            "Epoch 12/20\n",
            "143/143 [==============================] - 3s 22ms/step - loss: 0.0267 - accuracy: 0.9919 - val_loss: 1.0967 - val_accuracy: 0.8494\n",
            "Epoch 13/20\n",
            "143/143 [==============================] - 3s 22ms/step - loss: 0.0261 - accuracy: 0.9916 - val_loss: 1.0888 - val_accuracy: 0.8546\n",
            "Epoch 14/20\n",
            "143/143 [==============================] - 3s 22ms/step - loss: 0.0248 - accuracy: 0.9920 - val_loss: 1.1124 - val_accuracy: 0.8592\n",
            "Epoch 15/20\n",
            "143/143 [==============================] - 3s 22ms/step - loss: 0.0250 - accuracy: 0.9917 - val_loss: 1.0794 - val_accuracy: 0.8650\n",
            "Epoch 16/20\n",
            "143/143 [==============================] - 3s 22ms/step - loss: 0.0250 - accuracy: 0.9925 - val_loss: 1.1250 - val_accuracy: 0.8661\n",
            "Epoch 17/20\n",
            "143/143 [==============================] - 3s 22ms/step - loss: 0.0228 - accuracy: 0.9925 - val_loss: 1.1886 - val_accuracy: 0.8465\n",
            "Epoch 18/20\n",
            "143/143 [==============================] - 3s 22ms/step - loss: 0.0226 - accuracy: 0.9922 - val_loss: 1.1667 - val_accuracy: 0.8621\n",
            "Epoch 19/20\n",
            "143/143 [==============================] - 3s 22ms/step - loss: 0.0219 - accuracy: 0.9928 - val_loss: 1.1820 - val_accuracy: 0.8511\n",
            "Epoch 20/20\n",
            "143/143 [==============================] - 3s 22ms/step - loss: 0.0218 - accuracy: 0.9925 - val_loss: 1.1745 - val_accuracy: 0.8650\n"
          ],
          "name": "stdout"
        },
        {
          "output_type": "execute_result",
          "data": {
            "text/plain": [
              "<tensorflow.python.keras.callbacks.History at 0x7f4abc4c1390>"
            ]
          },
          "metadata": {
            "tags": []
          },
          "execution_count": 36
        }
      ]
    },
    {
      "cell_type": "code",
      "metadata": {
        "id": "VMMd7b9yNaWo",
        "colab_type": "code",
        "outputId": "45ae90b8-a8be-4da9-f168-790e5affe15e",
        "colab": {
          "base_uri": "https://localhost:8080/",
          "height": 187
        }
      },
      "source": [
        "preds = model.predict(test_X_p2)\n",
        "print(classification_report(np.argmax(test_y_p2,axis=1),np.argmax(preds,axis=1)))"
      ],
      "execution_count": 0,
      "outputs": [
        {
          "output_type": "stream",
          "text": [
            "              precision    recall  f1-score   support\n",
            "\n",
            "           0       0.10      0.08      0.09        52\n",
            "           1       0.47      0.45      0.46       152\n",
            "           2       0.92      0.93      0.93      1529\n",
            "\n",
            "    accuracy                           0.86      1733\n",
            "   macro avg       0.50      0.49      0.49      1733\n",
            "weighted avg       0.86      0.86      0.86      1733\n",
            "\n"
          ],
          "name": "stdout"
        }
      ]
    },
    {
      "cell_type": "markdown",
      "metadata": {
        "id": "V3g8O0fyIY2E",
        "colab_type": "text"
      },
      "source": [
        "## Markov Chain"
      ]
    },
    {
      "cell_type": "code",
      "metadata": {
        "id": "B7Qinhq2IXMx",
        "colab_type": "code",
        "colab": {}
      },
      "source": [
        "# Add 300 samples from Negative Class\n",
        "df_simulated_spacy_n = df_simulated_spacy[df_simulated_spacy['labels'] == 0]\n",
        "df_simulated_spacy_p = df_simulated_spacy[df_simulated_spacy['labels'] == 1]"
      ],
      "execution_count": 0,
      "outputs": []
    },
    {
      "cell_type": "code",
      "metadata": {
        "id": "8pWx3VPzMiYQ",
        "colab_type": "code",
        "colab": {}
      },
      "source": [
        "train_X_p1,test_X_p1,train_y_p1,test_y_p1 = list(df_train['spacy_text']),list(df_test['spacy_text']),df_train.labels.values,df_test.labels.values"
      ],
      "execution_count": 0,
      "outputs": []
    },
    {
      "cell_type": "code",
      "metadata": {
        "id": "3LrAxMUDLhJn",
        "colab_type": "code",
        "colab": {}
      },
      "source": [
        "temp_df = df_simulated_spacy_n.sample(n = 300)"
      ],
      "execution_count": 0,
      "outputs": []
    },
    {
      "cell_type": "code",
      "metadata": {
        "id": "7NCos7Y9MQN6",
        "colab_type": "code",
        "colab": {}
      },
      "source": [
        "train_X_p1.extend(list(temp_df.spacy_text))"
      ],
      "execution_count": 0,
      "outputs": []
    },
    {
      "cell_type": "code",
      "metadata": {
        "id": "A_PP_sUxMvjO",
        "colab_type": "code",
        "colab": {}
      },
      "source": [
        "train_y_p1 = np.append(train_y_p1,temp_df.labels.values)"
      ],
      "execution_count": 0,
      "outputs": []
    },
    {
      "cell_type": "code",
      "metadata": {
        "id": "3Pyr3lSpNTRV",
        "colab_type": "code",
        "colab": {}
      },
      "source": [
        "train_whole_text_p1 = train_X_p1.copy()"
      ],
      "execution_count": 0,
      "outputs": []
    },
    {
      "cell_type": "code",
      "metadata": {
        "id": "pKs0UvE7Nn6b",
        "colab_type": "code",
        "colab": {}
      },
      "source": [
        "train_whole_text_p1.extend(test_X_p1)"
      ],
      "execution_count": 0,
      "outputs": []
    },
    {
      "cell_type": "code",
      "metadata": {
        "id": "6rRP-FwvNrwG",
        "colab_type": "code",
        "colab": {}
      },
      "source": [
        "tk = Tokenizer(lower = True,filters='')\n",
        "tk.fit_on_texts(train_whole_text_p1)\n",
        "max_len = 50\n",
        "train_tokenized = tk.texts_to_sequences(train_X_p1)\n",
        "test_tokenized = tk.texts_to_sequences(test_X_p1)\n",
        "train_X_p1 = pad_sequences(train_tokenized,maxlen= max_len)\n",
        "test_X_p1 = pad_sequences(test_tokenized, maxlen = max_len)"
      ],
      "execution_count": 0,
      "outputs": []
    },
    {
      "cell_type": "code",
      "metadata": {
        "id": "2iAJyrUhNumS",
        "colab_type": "code",
        "outputId": "8f19b634-49a4-40d2-bab5-c062834dcb2e",
        "colab": {
          "base_uri": "https://localhost:8080/",
          "height": 51
        }
      },
      "source": [
        "print(train_X_p1.shape)\n",
        "print(test_X_p1.shape)"
      ],
      "execution_count": 0,
      "outputs": [
        {
          "output_type": "stream",
          "text": [
            "(7303, 50)\n",
            "(1733, 50)\n"
          ],
          "name": "stdout"
        }
      ]
    },
    {
      "cell_type": "code",
      "metadata": {
        "id": "UxW37H6PNucy",
        "colab_type": "code",
        "colab": {}
      },
      "source": [
        "train_y_p1 = to_categorical(train_y_p1, num_classes = 3)\n",
        "test_y_p1 = to_categorical(test_y_p1, num_classes = 3)"
      ],
      "execution_count": 0,
      "outputs": []
    },
    {
      "cell_type": "code",
      "metadata": {
        "id": "XNKIFncGN8je",
        "colab_type": "code",
        "colab": {}
      },
      "source": [
        "model = Sequential()\n",
        "model.add(Embedding(20000, 100, input_length= 50))\n",
        "model.add(Dropout(0.2))\n",
        "model.add(Conv1D(64, 3, activation='relu'))\n",
        "model.add(MaxPooling1D(pool_size=2))\n",
        "model.add(Conv1D(32, 2, activation='relu'))\n",
        "model.add(MaxPooling1D(pool_size=2))\n",
        "model.add(LSTM(100))\n",
        "model.add(Dense(3, activation='softmax'))\n",
        "model.compile(loss='categorical_crossentropy', optimizer='adam', metrics=['accuracy'])"
      ],
      "execution_count": 0,
      "outputs": []
    },
    {
      "cell_type": "code",
      "metadata": {
        "id": "KdyKKrAXN8oy",
        "colab_type": "code",
        "outputId": "62930b4f-1dcd-4318-f645-ddad109929ef",
        "colab": {
          "base_uri": "https://localhost:8080/",
          "height": 1000
        }
      },
      "source": [
        "model.fit(train_X_p1, train_y_p1,\n",
        "                    batch_size=128,\n",
        "                    epochs=50,\n",
        "                    verbose=1,\n",
        "                    validation_data = (test_X_p1,test_y_p1),\n",
        "                    shuffle = True)"
      ],
      "execution_count": 0,
      "outputs": [
        {
          "output_type": "stream",
          "text": [
            "Epoch 1/50\n",
            "58/58 [==============================] - 2s 30ms/step - loss: 0.6579 - accuracy: 0.8205 - val_loss: 0.4514 - val_accuracy: 0.8823\n",
            "Epoch 2/50\n",
            "58/58 [==============================] - 1s 23ms/step - loss: 0.5157 - accuracy: 0.8350 - val_loss: 0.4329 - val_accuracy: 0.8823\n",
            "Epoch 3/50\n",
            "58/58 [==============================] - 2s 29ms/step - loss: 0.3988 - accuracy: 0.8499 - val_loss: 0.4438 - val_accuracy: 0.8632\n",
            "Epoch 4/50\n",
            "58/58 [==============================] - 1s 23ms/step - loss: 0.2937 - accuracy: 0.8777 - val_loss: 0.5072 - val_accuracy: 0.8627\n",
            "Epoch 5/50\n",
            "58/58 [==============================] - 1s 23ms/step - loss: 0.2349 - accuracy: 0.9072 - val_loss: 0.5353 - val_accuracy: 0.8534\n",
            "Epoch 6/50\n",
            "58/58 [==============================] - 1s 23ms/step - loss: 0.1885 - accuracy: 0.9285 - val_loss: 0.5886 - val_accuracy: 0.8505\n",
            "Epoch 7/50\n",
            "58/58 [==============================] - 1s 23ms/step - loss: 0.1460 - accuracy: 0.9429 - val_loss: 0.6955 - val_accuracy: 0.8448\n",
            "Epoch 8/50\n",
            "58/58 [==============================] - 1s 23ms/step - loss: 0.1169 - accuracy: 0.9597 - val_loss: 0.7422 - val_accuracy: 0.8425\n",
            "Epoch 9/50\n",
            "58/58 [==============================] - 1s 23ms/step - loss: 0.0995 - accuracy: 0.9659 - val_loss: 0.7850 - val_accuracy: 0.8407\n",
            "Epoch 10/50\n",
            "58/58 [==============================] - 1s 23ms/step - loss: 0.0828 - accuracy: 0.9722 - val_loss: 0.8130 - val_accuracy: 0.8223\n",
            "Epoch 11/50\n",
            "58/58 [==============================] - 1s 22ms/step - loss: 0.0644 - accuracy: 0.9790 - val_loss: 0.8130 - val_accuracy: 0.8384\n",
            "Epoch 12/50\n",
            "58/58 [==============================] - 1s 23ms/step - loss: 0.0579 - accuracy: 0.9818 - val_loss: 0.8577 - val_accuracy: 0.8286\n",
            "Epoch 13/50\n",
            "58/58 [==============================] - 1s 23ms/step - loss: 0.0492 - accuracy: 0.9832 - val_loss: 0.8818 - val_accuracy: 0.8598\n",
            "Epoch 14/50\n",
            "58/58 [==============================] - 1s 23ms/step - loss: 0.0520 - accuracy: 0.9860 - val_loss: 0.8721 - val_accuracy: 0.8355\n",
            "Epoch 15/50\n",
            "58/58 [==============================] - 1s 23ms/step - loss: 0.0514 - accuracy: 0.9834 - val_loss: 1.0061 - val_accuracy: 0.7778\n",
            "Epoch 16/50\n",
            "58/58 [==============================] - 1s 23ms/step - loss: 0.0769 - accuracy: 0.9767 - val_loss: 0.8682 - val_accuracy: 0.8367\n",
            "Epoch 17/50\n",
            "58/58 [==============================] - 1s 23ms/step - loss: 0.0589 - accuracy: 0.9804 - val_loss: 0.8848 - val_accuracy: 0.8367\n",
            "Epoch 18/50\n",
            "58/58 [==============================] - 1s 23ms/step - loss: 0.0343 - accuracy: 0.9885 - val_loss: 0.9062 - val_accuracy: 0.8263\n",
            "Epoch 19/50\n",
            "58/58 [==============================] - 1s 23ms/step - loss: 0.0331 - accuracy: 0.9869 - val_loss: 0.9532 - val_accuracy: 0.8234\n",
            "Epoch 20/50\n",
            "58/58 [==============================] - 1s 23ms/step - loss: 0.0326 - accuracy: 0.9886 - val_loss: 0.9139 - val_accuracy: 0.8217\n",
            "Epoch 21/50\n",
            "58/58 [==============================] - 1s 23ms/step - loss: 0.0325 - accuracy: 0.9880 - val_loss: 0.9643 - val_accuracy: 0.8390\n",
            "Epoch 22/50\n",
            "58/58 [==============================] - 1s 23ms/step - loss: 0.0288 - accuracy: 0.9884 - val_loss: 0.9519 - val_accuracy: 0.8223\n",
            "Epoch 23/50\n",
            "58/58 [==============================] - 1s 23ms/step - loss: 0.0276 - accuracy: 0.9889 - val_loss: 0.9645 - val_accuracy: 0.8286\n",
            "Epoch 24/50\n",
            "58/58 [==============================] - 1s 23ms/step - loss: 0.0269 - accuracy: 0.9888 - val_loss: 1.0041 - val_accuracy: 0.8448\n",
            "Epoch 25/50\n",
            "58/58 [==============================] - 1s 22ms/step - loss: 0.0267 - accuracy: 0.9890 - val_loss: 1.0047 - val_accuracy: 0.8425\n",
            "Epoch 26/50\n",
            "58/58 [==============================] - 1s 23ms/step - loss: 0.0247 - accuracy: 0.9890 - val_loss: 0.9843 - val_accuracy: 0.8263\n",
            "Epoch 27/50\n",
            "58/58 [==============================] - 1s 23ms/step - loss: 0.0259 - accuracy: 0.9897 - val_loss: 1.0042 - val_accuracy: 0.8384\n",
            "Epoch 28/50\n",
            "58/58 [==============================] - 1s 23ms/step - loss: 0.0240 - accuracy: 0.9897 - val_loss: 0.9775 - val_accuracy: 0.8390\n",
            "Epoch 29/50\n",
            "58/58 [==============================] - 1s 23ms/step - loss: 0.0233 - accuracy: 0.9889 - val_loss: 0.9844 - val_accuracy: 0.8338\n",
            "Epoch 30/50\n",
            "58/58 [==============================] - 1s 22ms/step - loss: 0.0216 - accuracy: 0.9890 - val_loss: 1.0214 - val_accuracy: 0.8373\n",
            "Epoch 31/50\n",
            "58/58 [==============================] - 1s 23ms/step - loss: 0.0244 - accuracy: 0.9895 - val_loss: 1.0444 - val_accuracy: 0.8511\n",
            "Epoch 32/50\n",
            "58/58 [==============================] - 1s 22ms/step - loss: 0.0226 - accuracy: 0.9900 - val_loss: 1.0546 - val_accuracy: 0.8350\n",
            "Epoch 33/50\n",
            "58/58 [==============================] - 1s 22ms/step - loss: 0.0217 - accuracy: 0.9893 - val_loss: 1.0224 - val_accuracy: 0.8396\n",
            "Epoch 34/50\n",
            "58/58 [==============================] - 1s 22ms/step - loss: 0.0210 - accuracy: 0.9889 - val_loss: 1.0503 - val_accuracy: 0.8482\n",
            "Epoch 35/50\n",
            "58/58 [==============================] - 1s 23ms/step - loss: 0.0213 - accuracy: 0.9895 - val_loss: 1.0355 - val_accuracy: 0.8534\n",
            "Epoch 36/50\n",
            "58/58 [==============================] - 1s 23ms/step - loss: 0.0220 - accuracy: 0.9903 - val_loss: 1.0718 - val_accuracy: 0.8229\n",
            "Epoch 37/50\n",
            "58/58 [==============================] - 1s 24ms/step - loss: 0.0253 - accuracy: 0.9893 - val_loss: 1.0396 - val_accuracy: 0.8396\n",
            "Epoch 38/50\n",
            "58/58 [==============================] - 1s 23ms/step - loss: 0.0213 - accuracy: 0.9899 - val_loss: 1.0639 - val_accuracy: 0.8229\n",
            "Epoch 39/50\n",
            "58/58 [==============================] - 1s 23ms/step - loss: 0.0208 - accuracy: 0.9895 - val_loss: 1.0402 - val_accuracy: 0.8269\n",
            "Epoch 40/50\n",
            "58/58 [==============================] - 1s 24ms/step - loss: 0.0205 - accuracy: 0.9901 - val_loss: 1.0622 - val_accuracy: 0.8246\n",
            "Epoch 41/50\n",
            "58/58 [==============================] - 1s 23ms/step - loss: 0.0205 - accuracy: 0.9896 - val_loss: 1.0723 - val_accuracy: 0.8315\n",
            "Epoch 42/50\n",
            "58/58 [==============================] - 1s 24ms/step - loss: 0.0187 - accuracy: 0.9900 - val_loss: 1.0814 - val_accuracy: 0.8223\n",
            "Epoch 43/50\n",
            "58/58 [==============================] - 1s 23ms/step - loss: 0.0189 - accuracy: 0.9890 - val_loss: 1.0809 - val_accuracy: 0.8384\n",
            "Epoch 44/50\n",
            "58/58 [==============================] - 1s 23ms/step - loss: 0.0169 - accuracy: 0.9911 - val_loss: 1.0629 - val_accuracy: 0.8350\n",
            "Epoch 45/50\n",
            "58/58 [==============================] - 1s 23ms/step - loss: 0.0178 - accuracy: 0.9893 - val_loss: 1.0817 - val_accuracy: 0.8407\n",
            "Epoch 46/50\n",
            "58/58 [==============================] - 1s 23ms/step - loss: 0.0186 - accuracy: 0.9892 - val_loss: 1.0992 - val_accuracy: 0.8384\n",
            "Epoch 47/50\n",
            "58/58 [==============================] - 1s 23ms/step - loss: 0.0169 - accuracy: 0.9912 - val_loss: 1.0804 - val_accuracy: 0.8402\n",
            "Epoch 48/50\n",
            "58/58 [==============================] - 1s 22ms/step - loss: 0.0173 - accuracy: 0.9908 - val_loss: 1.1408 - val_accuracy: 0.8142\n",
            "Epoch 49/50\n",
            "58/58 [==============================] - 1s 22ms/step - loss: 0.0201 - accuracy: 0.9908 - val_loss: 1.1404 - val_accuracy: 0.8413\n",
            "Epoch 50/50\n",
            "58/58 [==============================] - 1s 23ms/step - loss: 0.0229 - accuracy: 0.9906 - val_loss: 1.0925 - val_accuracy: 0.8344\n"
          ],
          "name": "stdout"
        },
        {
          "output_type": "execute_result",
          "data": {
            "text/plain": [
              "<tensorflow.python.keras.callbacks.History at 0x7f4aadb3de10>"
            ]
          },
          "metadata": {
            "tags": []
          },
          "execution_count": 76
        }
      ]
    },
    {
      "cell_type": "code",
      "metadata": {
        "id": "Shv5tqyfOCpA",
        "colab_type": "code",
        "outputId": "000dc6ec-afd4-4a21-aaef-9a811cde8f61",
        "colab": {
          "base_uri": "https://localhost:8080/",
          "height": 187
        }
      },
      "source": [
        "preds = model.predict(test_X_p1)\n",
        "print(classification_report(np.argmax(test_y_p1,axis=1),np.argmax(preds,axis=1)))"
      ],
      "execution_count": 0,
      "outputs": [
        {
          "output_type": "stream",
          "text": [
            "              precision    recall  f1-score   support\n",
            "\n",
            "           0       0.17      0.10      0.12        52\n",
            "           1       0.28      0.34      0.31       152\n",
            "           2       0.92      0.91      0.91      1529\n",
            "\n",
            "    accuracy                           0.83      1733\n",
            "   macro avg       0.46      0.45      0.45      1733\n",
            "weighted avg       0.84      0.83      0.84      1733\n",
            "\n"
          ],
          "name": "stdout"
        }
      ]
    },
    {
      "cell_type": "code",
      "metadata": {
        "id": "oOea7IMzSX0A",
        "colab_type": "code",
        "colab": {}
      },
      "source": [
        "# try add all positive and negative cases\n",
        "train_X_p1,test_X_p1,train_y_p1,test_y_p1 = list(df_train['spacy_text']),list(df_test['spacy_text']),df_train.labels.values,df_test.labels.values\n",
        "train_X_p1.extend(list(df_simulated_spacy.spacy_text))\n",
        "train_y_p1 = np.append(train_y_p1,df_simulated_spacy.labels.values)"
      ],
      "execution_count": 0,
      "outputs": []
    },
    {
      "cell_type": "code",
      "metadata": {
        "id": "mwfLAMlmlJ07",
        "colab_type": "code",
        "colab": {}
      },
      "source": [
        "train_whole_text_p1 = train_X_p1.copy()\n",
        "train_whole_text_p1.extend(test_X_p1)\n",
        "tk = Tokenizer(lower = True,filters='')\n",
        "tk.fit_on_texts(train_whole_text_p1)\n",
        "max_len = 50\n",
        "train_tokenized = tk.texts_to_sequences(train_X_p1)\n",
        "test_tokenized = tk.texts_to_sequences(test_X_p1)\n",
        "train_X_p1 = pad_sequences(train_tokenized,maxlen= max_len)\n",
        "test_X_p1 = pad_sequences(test_tokenized, maxlen = max_len)"
      ],
      "execution_count": 0,
      "outputs": []
    },
    {
      "cell_type": "code",
      "metadata": {
        "id": "9nb5i_tAmk4U",
        "colab_type": "code",
        "outputId": "a49f7f82-f81b-406a-e415-c86b5dbcd19d",
        "colab": {
          "base_uri": "https://localhost:8080/",
          "height": 51
        }
      },
      "source": [
        "print(train_X_p1.shape)\n",
        "print(test_X_p1.shape)"
      ],
      "execution_count": 0,
      "outputs": [
        {
          "output_type": "stream",
          "text": [
            "(8483, 50)\n",
            "(1733, 50)\n"
          ],
          "name": "stdout"
        }
      ]
    },
    {
      "cell_type": "code",
      "metadata": {
        "id": "ozL3yYSimnGR",
        "colab_type": "code",
        "colab": {}
      },
      "source": [
        "train_y_p1 = to_categorical(train_y_p1, num_classes = 3)\n",
        "test_y_p1 = to_categorical(test_y_p1, num_classes = 3)"
      ],
      "execution_count": 0,
      "outputs": []
    },
    {
      "cell_type": "code",
      "metadata": {
        "id": "HGigmL4UmnEC",
        "colab_type": "code",
        "colab": {}
      },
      "source": [
        "model = Sequential()\n",
        "model.add(Embedding(20000, 100, input_length= 50))\n",
        "model.add(Dropout(0.2))\n",
        "model.add(Conv1D(64, 3, activation='relu'))\n",
        "model.add(MaxPooling1D(pool_size=2))\n",
        "model.add(Conv1D(32, 2, activation='relu'))\n",
        "model.add(MaxPooling1D(pool_size=2))\n",
        "model.add(LSTM(100))\n",
        "model.add(Dense(3, activation='softmax'))\n",
        "model.compile(loss='categorical_crossentropy', optimizer='adam', metrics=['accuracy'])"
      ],
      "execution_count": 0,
      "outputs": []
    },
    {
      "cell_type": "code",
      "metadata": {
        "id": "8F_5nOhemrky",
        "colab_type": "code",
        "outputId": "66a328ba-b056-458f-c012-9b2d3b187b0c",
        "colab": {
          "base_uri": "https://localhost:8080/",
          "height": 1000
        }
      },
      "source": [
        "model.fit(train_X_p1, train_y_p1,\n",
        "                    batch_size=128,\n",
        "                    epochs=50,\n",
        "                    verbose=1,\n",
        "                    validation_data = (test_X_p1,test_y_p1),\n",
        "                    shuffle = True)"
      ],
      "execution_count": 0,
      "outputs": [
        {
          "output_type": "stream",
          "text": [
            "Epoch 1/50\n",
            "67/67 [==============================] - 2s 31ms/step - loss: 0.7649 - accuracy: 0.7277 - val_loss: 0.5323 - val_accuracy: 0.8609\n",
            "Epoch 2/50\n",
            "67/67 [==============================] - 2s 24ms/step - loss: 0.5304 - accuracy: 0.8134 - val_loss: 0.3998 - val_accuracy: 0.8759\n",
            "Epoch 3/50\n",
            "67/67 [==============================] - 2s 24ms/step - loss: 0.3394 - accuracy: 0.8721 - val_loss: 0.4707 - val_accuracy: 0.8546\n",
            "Epoch 4/50\n",
            "67/67 [==============================] - 2s 24ms/step - loss: 0.2008 - accuracy: 0.9290 - val_loss: 0.5251 - val_accuracy: 0.8673\n",
            "Epoch 5/50\n",
            "67/67 [==============================] - 2s 23ms/step - loss: 0.1430 - accuracy: 0.9499 - val_loss: 0.5780 - val_accuracy: 0.8569\n",
            "Epoch 6/50\n",
            "67/67 [==============================] - 2s 23ms/step - loss: 0.1081 - accuracy: 0.9649 - val_loss: 0.6798 - val_accuracy: 0.8425\n",
            "Epoch 7/50\n",
            "67/67 [==============================] - 2s 23ms/step - loss: 0.0921 - accuracy: 0.9709 - val_loss: 0.7410 - val_accuracy: 0.8344\n",
            "Epoch 8/50\n",
            "67/67 [==============================] - 2s 23ms/step - loss: 0.0792 - accuracy: 0.9751 - val_loss: 0.7600 - val_accuracy: 0.8540\n",
            "Epoch 9/50\n",
            "67/67 [==============================] - 2s 24ms/step - loss: 0.0639 - accuracy: 0.9783 - val_loss: 0.8334 - val_accuracy: 0.8327\n",
            "Epoch 10/50\n",
            "67/67 [==============================] - 2s 23ms/step - loss: 0.0569 - accuracy: 0.9808 - val_loss: 0.8624 - val_accuracy: 0.8442\n",
            "Epoch 11/50\n",
            "67/67 [==============================] - 2s 24ms/step - loss: 0.0505 - accuracy: 0.9844 - val_loss: 0.9022 - val_accuracy: 0.8430\n",
            "Epoch 12/50\n",
            "67/67 [==============================] - 2s 23ms/step - loss: 0.0498 - accuracy: 0.9846 - val_loss: 0.9266 - val_accuracy: 0.8396\n",
            "Epoch 13/50\n",
            "67/67 [==============================] - 2s 24ms/step - loss: 0.0458 - accuracy: 0.9863 - val_loss: 0.9417 - val_accuracy: 0.8223\n",
            "Epoch 14/50\n",
            "67/67 [==============================] - 2s 24ms/step - loss: 0.0419 - accuracy: 0.9869 - val_loss: 0.9452 - val_accuracy: 0.8269\n",
            "Epoch 15/50\n",
            "67/67 [==============================] - 2s 24ms/step - loss: 0.0422 - accuracy: 0.9870 - val_loss: 0.9394 - val_accuracy: 0.8396\n",
            "Epoch 16/50\n",
            "67/67 [==============================] - 2s 25ms/step - loss: 0.0366 - accuracy: 0.9880 - val_loss: 0.9655 - val_accuracy: 0.8425\n",
            "Epoch 17/50\n",
            "67/67 [==============================] - 2s 25ms/step - loss: 0.0340 - accuracy: 0.9886 - val_loss: 1.0188 - val_accuracy: 0.8234\n",
            "Epoch 18/50\n",
            "67/67 [==============================] - 2s 24ms/step - loss: 0.0294 - accuracy: 0.9902 - val_loss: 1.0026 - val_accuracy: 0.8557\n",
            "Epoch 19/50\n",
            "67/67 [==============================] - 2s 24ms/step - loss: 0.0306 - accuracy: 0.9894 - val_loss: 1.0286 - val_accuracy: 0.8454\n",
            "Epoch 20/50\n",
            "67/67 [==============================] - 2s 24ms/step - loss: 0.0271 - accuracy: 0.9893 - val_loss: 1.0486 - val_accuracy: 0.8350\n",
            "Epoch 21/50\n",
            "67/67 [==============================] - 2s 24ms/step - loss: 0.0291 - accuracy: 0.9893 - val_loss: 1.0653 - val_accuracy: 0.8200\n",
            "Epoch 22/50\n",
            "67/67 [==============================] - 2s 24ms/step - loss: 0.0303 - accuracy: 0.9889 - val_loss: 1.0562 - val_accuracy: 0.8390\n",
            "Epoch 23/50\n",
            "67/67 [==============================] - 2s 23ms/step - loss: 0.0293 - accuracy: 0.9886 - val_loss: 1.0223 - val_accuracy: 0.8477\n",
            "Epoch 24/50\n",
            "67/67 [==============================] - 2s 24ms/step - loss: 0.0262 - accuracy: 0.9902 - val_loss: 1.0477 - val_accuracy: 0.8361\n",
            "Epoch 25/50\n",
            "67/67 [==============================] - 2s 23ms/step - loss: 0.0230 - accuracy: 0.9909 - val_loss: 1.0653 - val_accuracy: 0.8494\n",
            "Epoch 26/50\n",
            "67/67 [==============================] - 2s 24ms/step - loss: 0.0222 - accuracy: 0.9902 - val_loss: 1.0743 - val_accuracy: 0.8459\n",
            "Epoch 27/50\n",
            "67/67 [==============================] - 2s 23ms/step - loss: 0.0198 - accuracy: 0.9916 - val_loss: 1.0847 - val_accuracy: 0.8552\n",
            "Epoch 28/50\n",
            "67/67 [==============================] - 2s 24ms/step - loss: 0.0204 - accuracy: 0.9914 - val_loss: 1.1105 - val_accuracy: 0.8454\n",
            "Epoch 29/50\n",
            "67/67 [==============================] - 2s 23ms/step - loss: 0.0230 - accuracy: 0.9917 - val_loss: 1.0971 - val_accuracy: 0.8332\n",
            "Epoch 30/50\n",
            "67/67 [==============================] - 2s 23ms/step - loss: 0.0211 - accuracy: 0.9903 - val_loss: 1.1033 - val_accuracy: 0.8304\n",
            "Epoch 31/50\n",
            "67/67 [==============================] - 2s 23ms/step - loss: 0.0194 - accuracy: 0.9921 - val_loss: 1.1759 - val_accuracy: 0.8142\n",
            "Epoch 32/50\n",
            "67/67 [==============================] - 2s 23ms/step - loss: 0.0197 - accuracy: 0.9914 - val_loss: 1.1183 - val_accuracy: 0.8344\n",
            "Epoch 33/50\n",
            "67/67 [==============================] - 2s 23ms/step - loss: 0.0192 - accuracy: 0.9906 - val_loss: 1.1080 - val_accuracy: 0.8552\n",
            "Epoch 34/50\n",
            "67/67 [==============================] - 2s 23ms/step - loss: 0.0221 - accuracy: 0.9909 - val_loss: 1.1638 - val_accuracy: 0.8413\n",
            "Epoch 35/50\n",
            "67/67 [==============================] - 2s 23ms/step - loss: 0.0191 - accuracy: 0.9919 - val_loss: 1.1098 - val_accuracy: 0.8361\n",
            "Epoch 36/50\n",
            "67/67 [==============================] - 2s 23ms/step - loss: 0.0171 - accuracy: 0.9912 - val_loss: 1.1605 - val_accuracy: 0.8304\n",
            "Epoch 37/50\n",
            "67/67 [==============================] - 2s 23ms/step - loss: 0.0171 - accuracy: 0.9912 - val_loss: 1.1454 - val_accuracy: 0.8361\n",
            "Epoch 38/50\n",
            "67/67 [==============================] - 2s 23ms/step - loss: 0.0160 - accuracy: 0.9923 - val_loss: 1.1665 - val_accuracy: 0.8500\n",
            "Epoch 39/50\n",
            "67/67 [==============================] - 2s 23ms/step - loss: 0.0191 - accuracy: 0.9912 - val_loss: 1.1749 - val_accuracy: 0.8171\n",
            "Epoch 40/50\n",
            "67/67 [==============================] - 2s 23ms/step - loss: 0.0169 - accuracy: 0.9921 - val_loss: 1.1599 - val_accuracy: 0.8384\n",
            "Epoch 41/50\n",
            "67/67 [==============================] - 2s 23ms/step - loss: 0.0179 - accuracy: 0.9914 - val_loss: 1.1595 - val_accuracy: 0.8350\n",
            "Epoch 42/50\n",
            "67/67 [==============================] - 2s 23ms/step - loss: 0.0175 - accuracy: 0.9909 - val_loss: 1.1283 - val_accuracy: 0.8430\n",
            "Epoch 43/50\n",
            "67/67 [==============================] - 2s 29ms/step - loss: 0.0152 - accuracy: 0.9919 - val_loss: 1.1769 - val_accuracy: 0.8407\n",
            "Epoch 44/50\n",
            "67/67 [==============================] - 2s 23ms/step - loss: 0.0138 - accuracy: 0.9919 - val_loss: 1.1837 - val_accuracy: 0.8448\n",
            "Epoch 45/50\n",
            "67/67 [==============================] - 2s 23ms/step - loss: 0.0147 - accuracy: 0.9916 - val_loss: 1.2323 - val_accuracy: 0.8194\n",
            "Epoch 46/50\n",
            "67/67 [==============================] - 2s 23ms/step - loss: 0.0142 - accuracy: 0.9921 - val_loss: 1.2538 - val_accuracy: 0.8229\n",
            "Epoch 47/50\n",
            "67/67 [==============================] - 2s 23ms/step - loss: 0.0154 - accuracy: 0.9922 - val_loss: 1.2063 - val_accuracy: 0.8309\n",
            "Epoch 48/50\n",
            "67/67 [==============================] - 2s 23ms/step - loss: 0.0137 - accuracy: 0.9917 - val_loss: 1.2208 - val_accuracy: 0.8361\n",
            "Epoch 49/50\n",
            "67/67 [==============================] - 2s 23ms/step - loss: 0.0136 - accuracy: 0.9920 - val_loss: 1.2261 - val_accuracy: 0.8355\n",
            "Epoch 50/50\n",
            "67/67 [==============================] - 2s 23ms/step - loss: 0.0140 - accuracy: 0.9913 - val_loss: 1.2624 - val_accuracy: 0.8263\n"
          ],
          "name": "stdout"
        },
        {
          "output_type": "execute_result",
          "data": {
            "text/plain": [
              "<tensorflow.python.keras.callbacks.History at 0x7f4b54c11710>"
            ]
          },
          "metadata": {
            "tags": []
          },
          "execution_count": 97
        }
      ]
    },
    {
      "cell_type": "code",
      "metadata": {
        "id": "P2llZB0bnEU9",
        "colab_type": "code",
        "outputId": "9ee85fce-9b44-4fd7-928c-77b76db195dc",
        "colab": {
          "base_uri": "https://localhost:8080/",
          "height": 187
        }
      },
      "source": [
        "preds = model.predict(test_X_p1)\n",
        "print(classification_report(np.argmax(test_y_p1,axis=1),np.argmax(preds,axis=1)))"
      ],
      "execution_count": 0,
      "outputs": [
        {
          "output_type": "stream",
          "text": [
            "              precision    recall  f1-score   support\n",
            "\n",
            "           0       0.12      0.12      0.12        52\n",
            "           1       0.32      0.43      0.37       152\n",
            "           2       0.92      0.89      0.91      1529\n",
            "\n",
            "    accuracy                           0.83      1733\n",
            "   macro avg       0.45      0.48      0.46      1733\n",
            "weighted avg       0.85      0.83      0.83      1733\n",
            "\n"
          ],
          "name": "stdout"
        }
      ]
    }
  ]
}